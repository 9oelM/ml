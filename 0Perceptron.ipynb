{
 "cells": [
  {
   "cell_type": "markdown",
   "metadata": {
    "colab_type": "text",
    "id": "view-in-github"
   },
   "source": [
    "<a href=\"https://colab.research.google.com/github/9oelM/ml/blob/main/Perceptron.ipynb\" target=\"_parent\"><img src=\"https://colab.research.google.com/assets/colab-badge.svg\" alt=\"Open In Colab\"/></a>"
   ]
  },
  {
   "cell_type": "markdown",
   "metadata": {
    "id": "qrsMm04q9RLX"
   },
   "source": [
    "# An object-oriented perceptron API\n",
    "\n",
    "Let's go ahead and implements Rosenblatt's perceptron rule in Python.\n",
    "We are going to build an object-oriented perceptron API and try the [Iris dataset](https://en.wikipedia.org/wiki/Iris_flower_data_set) on it."
   ]
  },
  {
   "cell_type": "markdown",
   "metadata": {
    "id": "ozhQ9Dkemo_q"
   },
   "source": [
    "## Iris dataset\n",
    "Let us load the two flower classes Setosa and Versicolor from the Iris dataset. Although the perceptron rule is not restricted to two dimensions, we will only consider the two features: **sepal length and petal length** for visualization purposes. Also, we only chose the two flower classes Setosa and Versicolor for practical reasons. However, the perceptron algorithm can be extended to multi-class classification—for example, the One-versus-All (OvA) technique.\n",
    "\n",
    "First, we will use the pandas library to load the Iris dataset directly from the UCI Machine Learning Repository into a DataFrame object and print the last five lines via the `tail` method to check the data was loaded correctly.\n"
   ]
  },
  {
   "cell_type": "code",
   "execution_count": 2,
   "metadata": {
    "colab": {
     "base_uri": "https://localhost:8080/",
     "height": 206
    },
    "id": "yqTxARmr61L3",
    "outputId": "458241eb-067e-4d66-fab1-b4db547e0049"
   },
   "outputs": [
    {
     "data": {
      "text/html": [
       "<div>\n",
       "<style scoped>\n",
       "    .dataframe tbody tr th:only-of-type {\n",
       "        vertical-align: middle;\n",
       "    }\n",
       "\n",
       "    .dataframe tbody tr th {\n",
       "        vertical-align: top;\n",
       "    }\n",
       "\n",
       "    .dataframe thead th {\n",
       "        text-align: right;\n",
       "    }\n",
       "</style>\n",
       "<table border=\"1\" class=\"dataframe\">\n",
       "  <thead>\n",
       "    <tr style=\"text-align: right;\">\n",
       "      <th></th>\n",
       "      <th>0</th>\n",
       "      <th>1</th>\n",
       "      <th>2</th>\n",
       "      <th>3</th>\n",
       "      <th>4</th>\n",
       "    </tr>\n",
       "  </thead>\n",
       "  <tbody>\n",
       "    <tr>\n",
       "      <th>145</th>\n",
       "      <td>6.7</td>\n",
       "      <td>3.0</td>\n",
       "      <td>5.2</td>\n",
       "      <td>2.3</td>\n",
       "      <td>Iris-virginica</td>\n",
       "    </tr>\n",
       "    <tr>\n",
       "      <th>146</th>\n",
       "      <td>6.3</td>\n",
       "      <td>2.5</td>\n",
       "      <td>5.0</td>\n",
       "      <td>1.9</td>\n",
       "      <td>Iris-virginica</td>\n",
       "    </tr>\n",
       "    <tr>\n",
       "      <th>147</th>\n",
       "      <td>6.5</td>\n",
       "      <td>3.0</td>\n",
       "      <td>5.2</td>\n",
       "      <td>2.0</td>\n",
       "      <td>Iris-virginica</td>\n",
       "    </tr>\n",
       "    <tr>\n",
       "      <th>148</th>\n",
       "      <td>6.2</td>\n",
       "      <td>3.4</td>\n",
       "      <td>5.4</td>\n",
       "      <td>2.3</td>\n",
       "      <td>Iris-virginica</td>\n",
       "    </tr>\n",
       "    <tr>\n",
       "      <th>149</th>\n",
       "      <td>5.9</td>\n",
       "      <td>3.0</td>\n",
       "      <td>5.1</td>\n",
       "      <td>1.8</td>\n",
       "      <td>Iris-virginica</td>\n",
       "    </tr>\n",
       "  </tbody>\n",
       "</table>\n",
       "</div>"
      ],
      "text/plain": [
       "       0    1    2    3               4\n",
       "145  6.7  3.0  5.2  2.3  Iris-virginica\n",
       "146  6.3  2.5  5.0  1.9  Iris-virginica\n",
       "147  6.5  3.0  5.2  2.0  Iris-virginica\n",
       "148  6.2  3.4  5.4  2.3  Iris-virginica\n",
       "149  5.9  3.0  5.1  1.8  Iris-virginica"
      ]
     },
     "execution_count": 2,
     "metadata": {},
     "output_type": "execute_result"
    }
   ],
   "source": [
    "import pandas as pd\n",
    "df = pd.read_csv('https://archive.ics.uci.edu/ml/machine-learning-databases/iris/iris.data', header=None)\n",
    "# df.head()\n",
    "df.tail()"
   ]
  },
  {
   "cell_type": "markdown",
   "metadata": {
    "id": "sS1kq9sloQvg"
   },
   "source": [
    "Next, we extract the first 100 class labels that correspond to the 50 Iris-setosa and 50 Iris-versicolor flowers, and convert the class labels into the two integer class labels `1` (versicolor) and `-1` (setosa) that we assign to a vector `y`, where the values method of a pandas DataFrame yields the corresponding NumPy representation.\n",
    "\n",
    "Similarly, we extract the **first feature column (sepal length) and the third feature column (petal length) of those 100 training samples** and assign them to a feature matrix `X`."
   ]
  },
  {
   "cell_type": "code",
   "execution_count": 8,
   "metadata": {
    "id": "zbZGasXZC-yv"
   },
   "outputs": [
    {
     "name": "stdout",
     "output_type": "stream",
     "text": [
      "0         Iris-setosa\n",
      "1         Iris-setosa\n",
      "2         Iris-setosa\n",
      "3         Iris-setosa\n",
      "4         Iris-setosa\n",
      "           ...       \n",
      "95    Iris-versicolor\n",
      "96    Iris-versicolor\n",
      "97    Iris-versicolor\n",
      "98    Iris-versicolor\n",
      "99    Iris-versicolor\n",
      "Name: 4, Length: 100, dtype: object\n",
      "[-1 -1 -1 -1 -1 -1 -1 -1 -1 -1 -1 -1 -1 -1 -1 -1 -1 -1 -1 -1 -1 -1 -1 -1\n",
      " -1 -1 -1 -1 -1 -1 -1 -1 -1 -1 -1 -1 -1 -1 -1 -1 -1 -1 -1 -1 -1 -1 -1 -1\n",
      " -1 -1  1  1  1  1  1  1  1  1  1  1  1  1  1  1  1  1  1  1  1  1  1  1\n",
      "  1  1  1  1  1  1  1  1  1  1  1  1  1  1  1  1  1  1  1  1  1  1  1  1\n",
      "  1  1  1  1]\n",
      "[[5.5 3.8]\n",
      " [5.5 3.7]\n",
      " [5.8 3.9]\n",
      " [6.  5.1]\n",
      " [5.4 4.5]\n",
      " [6.  4.5]\n",
      " [6.7 4.7]\n",
      " [6.3 4.4]\n",
      " [5.6 4.1]\n",
      " [5.5 4. ]\n",
      " [5.5 4.4]\n",
      " [6.1 4.6]\n",
      " [5.8 4. ]\n",
      " [5.  3.3]\n",
      " [5.6 4.2]\n",
      " [5.7 4.2]\n",
      " [5.7 4.2]\n",
      " [6.2 4.3]\n",
      " [5.1 3. ]\n",
      " [5.7 4.1]]\n"
     ]
    }
   ],
   "source": [
    "import numpy as np\n",
    "y = df.iloc[0:100, 4]\n",
    "print(y) # extract the 4th column from the dataframe\n",
    "y = np.where(y == 'Iris-setosa', -1, 1)\n",
    "print(y) # -1 is setosa, 1 is versicolor\n",
    "X = df.iloc[0:100, [0, 2]].values\n",
    "print(X[-20:]) # the last 20 features (consisting of first and third features)"
   ]
  },
  {
   "cell_type": "markdown",
   "metadata": {
    "id": "s8bdWubUDerp"
   },
   "source": [
    "We can visualize via a two-dimensional scatter plot."
   ]
  },
  {
   "cell_type": "code",
   "execution_count": 9,
   "metadata": {
    "colab": {
     "base_uri": "https://localhost:8080/",
     "height": 279
    },
    "id": "vsfnwoJR61L7",
    "outputId": "355f5180-0f61-41a5-f815-e9856ed7a526"
   },
   "outputs": [
    {
     "data": {
      "image/png": "[encoded data removed]",
      "text/plain": [
       "<Figure size 640x480 with 1 Axes>"
      ]
     },
     "metadata": {},
     "output_type": "display_data"
    }
   ],
   "source": [
    "import matplotlib.pyplot as plt\n",
    "# plot the sepal length of X as x and the petal length of X of as y in the 2D plane\n",
    "# X[:50] only contains setosa\n",
    "plt.scatter(X[:50, 0], X[:50, 1],\n",
    "            color='red', marker='o', label='setosa')\n",
    "# X[50:100] contains versicolor\n",
    "plt.scatter(X[50:100, 0], X[50:100, 1],\n",
    "            color='blue', marker='x', label='versicolor')\n",
    "plt.xlabel('sepal length [cm]')\n",
    "plt.ylabel('petal length [cm]')\n",
    "plt.legend(loc='upper left')\n",
    "plt.show()"
   ]
  },
  {
   "cell_type": "markdown",
   "metadata": {
    "id": "PIh1RubDpC4V"
   },
   "source": [
    "The preceding scatterplot shows the distribution of flower samples in the Iris dataset along the two feature axes, petal length and sepal length. In this two-dimensional feature subspace, we can see that a linear decision boundary should be sufficient to separate Setosa from Versicolor flowers. Thus, a linear classifier such as the perceptron should be able to classify the flowers in this dataset perfectly. \n",
    "\n",
    "Now, it's time to define write our perceptron algorithm and train it using the Iris data subset that we just extracted. Also, we will plot the misclassification error for each epoch to check whether the algorithm converged and found a decision boundary that separates the two Iris flower classes."
   ]
  },
  {
   "cell_type": "markdown",
   "metadata": {
    "id": "OekCa8TaCJPM"
   },
   "source": [
    "# Perceptron Class\n",
    "\n",
    "Let's define the perceptron as a Python class, which allows us to initialize new Perceptron objects that can learn from data via a `fit` method, and make predictions via a separate `predict` method. \n",
    "\n",
    "As a convention, we append an underscore ( `_` ) to attributes that are not being created upon the initialization of the object but by calling the object's other methods, for example, `self.w_` "
   ]
  },
  {
   "cell_type": "code",
   "execution_count": 23,
   "metadata": {
    "colab": {
     "base_uri": "https://localhost:8080/",
     "height": 34
    },
    "id": "zyh4ooOy61Ly",
    "outputId": "ecc53d19-bd31-4a80-d406-b51deedea001"
   },
   "outputs": [
    {
     "name": "stdout",
     "output_type": "stream",
     "text": [
      "(100, 2)\n",
      "2\n",
      "[ 0.01624345 -0.00611756 -0.00528172]\n"
     ]
    },
    {
     "data": {
      "text/plain": [
       "<__main__.Perceptron at 0x7fb5dc819670>"
      ]
     },
     "execution_count": 23,
     "metadata": {},
     "output_type": "execute_result"
    }
   ],
   "source": [
    "import numpy as np\n",
    "class Perceptron(object):\n",
    "    def __init__(self, eta=0.01, n_iter=50, random_state=1):\n",
    "        self.eta = eta\n",
    "        self.n_iter = n_iter\n",
    "        self.random_state = random_state\n",
    "    def fit(self, X, y): \n",
    "        rgen = np.random.RandomState(self.random_state)\n",
    "        # self.w_[0] is just for the bias.\n",
    "        # self.w_[1:] is for the real weight\n",
    "        self.w_ = rgen.normal(loc=0.0, scale=0.01, size=1 + X.shape[1])\n",
    "        # X.shape is just (100, 2). So it means (#rows, #column)\n",
    "        print(X.shape)\n",
    "        print(X.shape[1])\n",
    "        print(self.w_)\n",
    "        self.errors_ = []\n",
    "        for _ in range(self.n_iter):\n",
    "            errors = 0\n",
    "            for xi, target in zip(X, y):\n",
    "                # xi is a vector holding a sample of two features.\n",
    "                # example: [5.1 1.4]\n",
    "                # target is a vector holding the target corresponding to\n",
    "                # the sample. Must be -1 or 1 in this case\n",
    "                update = self.eta * (target - self.predict(xi))\n",
    "                # update is the value to tweak the weights so that self.predict\n",
    "                # will produce more correct output.\n",
    "                # if the result from self.predict is correct,\n",
    "                # update will just be 0 and this will not affect the existing\n",
    "                # weights. otherwise it can be something like 0.2 or -0.2\n",
    "                self.w_[1:] += update * xi\n",
    "                self.w_[0] += update\n",
    "                errors += int(update != 0.0)\n",
    "            self.errors_.append(errors)\n",
    "        return self\n",
    "    def net_input(self, X):\n",
    "        # the net input function actually contains the bias as well\n",
    "        # which does not seem to be covered in the textbook\n",
    "        return np.dot(X, self.w_[1:]) + self.w_[0] \n",
    "    def predict(self, X):\n",
    "        return np.where(self.net_input(X) >= 0.0, 1, -1)\n",
    "ppn = Perceptron(eta=0.1, n_iter=10)\n",
    "ppn.fit(X, y)"
   ]
  },
  {
   "cell_type": "markdown",
   "metadata": {
    "id": "4r5tR-cmC3Q1"
   },
   "source": [
    "The Perceptron class has the following parameters\n",
    "* `eta` : float - Learning rate (between 0.0 and 1.0)\n",
    "* `n_iter` : int - Passes over the training dataset.\n",
    "* `random_state` : int - Random number generator seed for random weight initialization.\n",
    "\n",
    "The Perceptron class has the following attributes\n",
    "* `w_` : 1d-array - Weights after fitting.\n",
    "* `errors_` : list - Number of misclassifications (updates) in each epoch.\n",
    "\n",
    "You can call the `fit` function of the Perceptron class to fit training data. It has the following parameters\n",
    "* `X` : {array-like}, shape = [`n_samples`, `n_features`] - Training vectors, where `n_samples` is the number of samples and `n_features` is the number of features.\n",
    "* `y` : array-like, shape = [`n_samples`] - Target values.\n",
    "\n",
    "The fit function returns the object that called it. (Useful for nested calls)"
   ]
  },
  {
   "cell_type": "markdown",
   "metadata": {
    "id": "akOKA2n8jjld"
   },
   "source": [
    "Using this perceptron implementation, we can now initialize new Perceptron\n",
    "objects with a given learning rate `eta` and `n_iter`, which is the number of epochs (passes over the training set).\n",
    "\n",
    "Via the fit method, we initialize the weights in `self.w_` to a vector $R^{m+1}$, where `m` stands for the number of dimensions (features) in the dataset, where we add 1 for the first element in this vector that represents the bias unit (the first element in this vector `self.w_[0]`).\n",
    "\n",
    "Also notice that this vector contains small random numbers drawn from a normal distribution with standard deviation `0.01` via `rgen.normal(loc=0.0, scale=0.01, size=1 + X.shape[1])` , where `rgen` is a NumPy random number generator that we seeded with a user-specified random seed so that we can reproduce previous results if desired.\n",
    "\n",
    "After the weights have been initialized, the fit method loops over all individual samples in the training set and updates the weights according to the perceptron learning rule. The class labels are predicted by the `predict` method, which is called in the fit method to predict the class label for the weight update, but predict can also be used to predict the class labels of new data after we have fitted our model. Furthermore, we also collect the number of misclassifications during each epoch in the `self.errors_` list so that we can later analyze how well our perceptron performed during the training. The `np.dot` function that is used in the **`net_input` method simply calculates the vector dot product $w^Tx$.**\n"
   ]
  },
  {
   "cell_type": "code",
   "execution_count": null,
   "metadata": {
    "colab": {
     "base_uri": "https://localhost:8080/",
     "height": 279
    },
    "id": "tobvAC0A61MA",
    "outputId": "7451b629-2ec5-4d97-bd3e-89f4e917fe49"
   },
   "outputs": [
    {
     "data": {
      "image/png": "[encoded data removed]",
      "text/plain": [
       "<Figure size 432x288 with 1 Axes>"
      ]
     },
     "metadata": {
      "needs_background": "light",
      "tags": []
     },
     "output_type": "display_data"
    }
   ],
   "source": [
    "plt.plot(range(1, len(ppn.errors_) + 1), ppn.errors_, marker='o')\n",
    "plt.xlabel('Epochs')\n",
    "plt.ylabel('Number of updates')\n",
    "plt.show()"
   ]
  },
  {
   "cell_type": "markdown",
   "metadata": {
    "id": "qwJModi9pRUJ"
   },
   "source": [
    "As we can see in the preceding plot, our perceptron converged after the sixth epoch and should now be able to classify the training samples perfectly. Let us implement a small convenience function to visualize the decision boundaries for two-dimensional datasets."
   ]
  },
  {
   "cell_type": "code",
   "execution_count": null,
   "metadata": {
    "colab": {
     "base_uri": "https://localhost:8080/",
     "height": 280
    },
    "id": "B0LVU9y761MC",
    "outputId": "f62969ca-416a-4e9d-a9e9-ea5f613dd392"
   },
   "outputs": [
    {
     "data": {
      "image/png": "[encoded data removed]",
      "text/plain": [
       "<Figure size 432x288 with 1 Axes>"
      ]
     },
     "metadata": {
      "needs_background": "light",
      "tags": []
     },
     "output_type": "display_data"
    }
   ],
   "source": [
    "from matplotlib.colors import ListedColormap\n",
    "def plot_decision_regions(X, y, classifier, resolution=0.02):\n",
    "    markers = ('s', 'x', 'o', '^', 'v')\n",
    "    colors = ('red', 'blue', 'lightgreen', 'gray', 'cyan')\n",
    "    cmap = ListedColormap(colors[:len(np.unique(y))])\n",
    "    x1_min, x1_max = X[:, 0].min() - 1, X[:, 0].max() + 1\n",
    "    x2_min, x2_max = X[:, 1].min() - 1, X[:, 1].max() + 1\n",
    "    xx1, xx2 = np.meshgrid(np.arange(x1_min, x1_max, resolution), \n",
    "                           np.arange(x2_min, x2_max, resolution))\n",
    "    Z = classifier.predict(np.array([xx1.ravel(), xx2.ravel()]).T)\n",
    "    Z = Z.reshape(xx1.shape)\n",
    "    plt.contourf(xx1, xx2, Z, alpha=0.3, cmap=cmap)\n",
    "    plt.xlim(xx1.min(), xx1.max())\n",
    "    plt.ylim(xx2.min(), xx2.max())\n",
    "    for idx, cl in enumerate(np.unique(y)):\n",
    "        plt.scatter(x=X[y == cl, 0], y=X[y == cl, 1], alpha=0.8, \n",
    "                    c=colors[idx],  marker=markers[idx],\n",
    "                    label=cl, edgecolor='black')\n",
    "plot_decision_regions(X, y, classifier=ppn)\n",
    "plt.xlabel('sepal length [cm]')\n",
    "plt.ylabel('petal length [cm]')\n",
    "plt.legend(loc='upper left')\n",
    "plt.show()"
   ]
  },
  {
   "cell_type": "markdown",
   "metadata": {
    "id": "h_4hxXLLpbD2"
   },
   "source": [
    "First, we define a number of `colors` and `markers` and create a colormap from the list of colors via `ListedColormap`. Then, we determine the minimum and maximum values for the two features and use those feature vectors to create a pair of grid arrays `xx1` and `xx2` via the NumPy `meshgrid` function.\n",
    "\n",
    "Since we trained our perceptron classifier on two feature dimensions, we need to flatten the grid arrays and create a matrix that has the same number of columns as the Iris training subset so that we can use the predict method to `predict` the class labels `Z` of the corresponding grid points.\n",
    "\n",
    "After reshaping the predicted class labels `Z` into a grid with the same dimensions as `xx1` and `xx2`, we can now draw a contour plot via Matplotlib's `contourf` function, which maps the different decision regions to different colors for each predicted class in the grid array."
   ]
  },
  {
   "cell_type": "markdown",
   "metadata": {
    "id": "Ojj48GuGq9Hu"
   },
   "source": [
    "As we can see in the plot, the perceptron learned a decision boundary that is able to classify all flower samples in the Iris training subset perfectly.\n",
    "\n",
    "Although the perceptron classified the two Iris flower classes perfectly, convergence is one of the biggest problems of the perceptron. Frank Rosenblatt proved mathematically that the perceptron learning rule converges if the two classes can be separated by a linear hyperplane.\n",
    "\n",
    "However, if classes cannot be separated perfectly by such a linear decision boundary, the weights will never stop updating unless we set a maximum number of epochs."
   ]
  },
  {
   "cell_type": "markdown",
   "metadata": {
    "id": "ky5_Uu29tYLI"
   },
   "source": [
    "# Reference\n",
    "Materials in this notebook are based on [Python Machine Learning](https://www.packtpub.com/data/python-machine-learning-third-edition)."
   ]
  }
 ],
 "metadata": {
  "colab": {
   "collapsed_sections": [],
   "include_colab_link": true,
   "provenance": []
  },
  "kernelspec": {
   "display_name": "Python 3 (ipykernel)",
   "language": "python",
   "name": "python3"
  },
  "language_info": {
   "codemirror_mode": {
    "name": "ipython",
    "version": 3
   },
   "file_extension": ".py",
   "mimetype": "text/x-python",
   "name": "python",
   "nbconvert_exporter": "python",
   "pygments_lexer": "ipython3",
   "version": "3.9.13"
  }
 },
 "nbformat": 4,
 "nbformat_minor": 4
}
