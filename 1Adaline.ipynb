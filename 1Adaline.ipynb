{
  "nbformat": 4,
  "nbformat_minor": 0,
  "metadata": {
    "kernelspec": {
      "display_name": "Python 3",
      "language": "python",
      "name": "python3"
    },
    "language_info": {
      "codemirror_mode": {
        "name": "ipython",
        "version": 3
      },
      "file_extension": ".py",
      "mimetype": "text/x-python",
      "name": "python",
      "nbconvert_exporter": "python",
      "pygments_lexer": "ipython3",
      "version": "3.6.8"
    },
    "colab": {
      "provenance": [],
      "collapsed_sections": [],
      "include_colab_link": true
    }
  },
  "cells": [
    {
      "cell_type": "markdown",
      "metadata": {
        "id": "view-in-github",
        "colab_type": "text"
      },
      "source": [
        "<a href=\"https://colab.research.google.com/github/9oelM/ml/blob/main/1Adaline.ipynb\" target=\"_parent\"><img src=\"https://colab.research.google.com/assets/colab-badge.svg\" alt=\"Open In Colab\"/></a>"
      ]
    },
    {
      "cell_type": "markdown",
      "metadata": {
        "id": "REU2dmQdt8He"
      },
      "source": [
        "#Implementing Adaline\n",
        "Since the perceptron rule and the ADAptive LInear NEuron classifier (Adaline) are very similar, we will take the perceptron implementation that we defined earlier and change the `fit` method so that the weights are updated by minimizing the cost function via gradient descent."
      ]
    },
    {
      "cell_type": "markdown",
      "metadata": {
        "id": "8t7vsK3lWHLN"
      },
      "source": [
        "We are using pandas again to load the same data as we did in the Perceptron implementation."
      ]
    },
    {
      "cell_type": "code",
      "metadata": {
        "id": "wMDNCZzwZqTr"
      },
      "source": [
        "import pandas as pd\n",
        "import numpy as np\n",
        "df = pd.read_csv('https://archive.ics.uci.edu/ml/machine-learning-databases/iris/iris.data', header=None)\n",
        "y = df.iloc[0:100, 4]\n",
        "y = np.where(y == 'Iris-setosa', -1, 1)\n",
        "X = df.iloc[0:100, [0, 2]].values"
      ],
      "execution_count": null,
      "outputs": []
    },
    {
      "cell_type": "code",
      "metadata": {
        "id": "dXYo-T1wZIKc",
        "colab": {
          "base_uri": "https://localhost:8080/"
        },
        "outputId": "43e8fe14-9921-4b9b-8169-23393b9e78c1"
      },
      "source": [
        "class AdalineGD(object):\n",
        "    def __init__(self, eta=0.01, n_iter=50, random_state=1):\n",
        "        self.eta = eta\n",
        "        self.n_iter = n_iter\n",
        "        self.random_state = random_state\n",
        "    def fit(self, X, y):\n",
        "        rgen = np.random.RandomState(self.random_state)\n",
        "        self.w_ = rgen.normal(loc=0.0, scale=0.01, size=1 + X.shape[1])\n",
        "        self.cost_ = []\n",
        "        for i in range(self.n_iter):\n",
        "            net_input = self.net_input(X)\n",
        "            output = self.activation(net_input)\n",
        "            errors = (y - output)\n",
        "            self.w_[1:] += self.eta * X.T.dot(errors)\n",
        "            self.w_[0] += self.eta * errors.sum()\n",
        "            cost = (errors**2).sum() / 2.0\n",
        "            self.cost_.append(cost)\n",
        "        return self\n",
        "    def net_input(self, X):\n",
        "        return np.dot(X, self.w_[1:]) + self.w_[0]\n",
        "    def activation(self, X):\n",
        "        return X\n",
        "    def predict(self, X):\n",
        "        return np.where(self.activation(self.net_input(X)) >= 0.0, 1, -1)\n",
        "ada = AdalineGD(n_iter=30, eta=0.0001).fit(X, y)\n",
        "ada.cost_"
      ],
      "execution_count": null,
      "outputs": [
        {
          "output_type": "execute_result",
          "data": {
            "text/plain": [
              "[51.08122709777622,\n",
              " 48.734405003475466,\n",
              " 47.268121538341724,\n",
              " 46.127493074312454,\n",
              " 45.11577153141929,\n",
              " 44.16300470536643,\n",
              " 43.244135928281686,\n",
              " 42.350009099392544,\n",
              " 41.47710358023412,\n",
              " 40.62389994660111,\n",
              " 39.78959323729818,\n",
              " 38.973637280057545,\n",
              " 38.17558324301583,\n",
              " 37.39502235241281,\n",
              " 36.63156549055843,\n",
              " 35.88483585304935,\n",
              " 35.15446623192374,\n",
              " 34.44009793908688,\n",
              " 33.74138031294905,\n",
              " 33.05797043399406,\n",
              " 32.38953291671959,\n",
              " 31.735739730967378,\n",
              " 31.096270035958685,\n",
              " 30.47081002107818,\n",
              " 29.859052751247802,\n",
              " 29.260698016078376,\n",
              " 28.67545218246425,\n",
              " 28.103028050456263,\n",
              " 27.54314471230968,\n",
              " 26.995527414626327]"
            ]
          },
          "metadata": {},
          "execution_count": 3
        }
      ]
    },
    {
      "cell_type": "markdown",
      "metadata": {
        "id": "ztK37cwyuNRM"
      },
      "source": [
        "Instead of updating the weights after evaluating each individual training sample, as in the perceptron, we calculate the gradient based on the whole training dataset via `self.eta * errors.sum()` for the bias unit (zero-weight) and via `self.eta * X.T.dot(errors)` for the weights `1` to `m` where `X.T.dot(errors)` is a matrix-vector multiplication between our feature matrix and the error vector.\n",
        "\n",
        "Please note that the activation method has no effect in the code since it is simply an identity function. Here, we added the activation function (computed via the `activation` method) to illustrate how information flows through a single layer neural network: features from the input data, net input, activation, and output.\n",
        "\n",
        "Similar to the previous perceptron implementation, we collect the cost values in a `self.cost_` list to check whether the algorithm converged after training."
      ]
    },
    {
      "cell_type": "markdown",
      "metadata": {
        "id": "-8LoJmscwpmh"
      },
      "source": [
        "In practice, it often requires some experimentation to find a good learning rate $\\eta$ for optimal convergence. So, let's choose two different learning rates, $\\eta=0.01$ and $\\eta=0.0001$, to start with and plot the cost functions versus the number of epochs to see how well the Adaline implementation learns from the training data."
      ]
    },
    {
      "cell_type": "code",
      "metadata": {
        "id": "WaGCv4c-ZIKe",
        "colab": {
          "base_uri": "https://localhost:8080/",
          "height": 295
        },
        "outputId": "9c7cddd6-15d9-4717-8c5d-aa2a7073c380"
      },
      "source": [
        "import matplotlib.pyplot as plt\n",
        "fig, ax = plt.subplots(nrows=1, ncols=2, figsize=(10, 4))\n",
        "ada1 = AdalineGD(n_iter=10, eta=0.01).fit(X, y)\n",
        "ax[0].plot(range(1, len(ada1.cost_) + 1), np.log10(ada1.cost_), marker='o')\n",
        "ax[0].set_xlabel('Epochs')\n",
        "ax[0].set_ylabel('log(Sum-squared-error)')\n",
        "ax[0].set_title('Adaline - Learning rate 0.01')\n",
        "ada2 = AdalineGD(n_iter=10, eta=0.0001).fit(X, y)\n",
        "ax[1].plot(range(1, len(ada2.cost_) + 1), ada2.cost_, marker='o')\n",
        "ax[1].set_xlabel('Epochs')\n",
        "ax[1].set_ylabel('Sum-squared-error')\n",
        "ax[1].set_title('Adaline - Learning rate 0.0001')\n",
        "plt.show()"
      ],
      "execution_count": null,
      "outputs": [
        {
          "output_type": "display_data",
          "data": {
            "text/plain": [
              "<Figure size 720x288 with 2 Axes>"
            ],
            "image/png": "[encoded data removed]"
          },
          "metadata": {
            "needs_background": "light"
          }
        }
      ]
    },
    {
      "cell_type": "markdown",
      "metadata": {
        "id": "atFzDNZ2xB_j"
      },
      "source": [
        "As we can see in the resulting cost-function plots, we encountered two different types of problem. The left chart shows what could happen if we choose a learning rate that is too large. Instead of minimizing the cost function, the error becomes larger in every epoch, because we overshoot the global minimum. On the other hand, we can see that the cost decreases on the right plot, but the chosen learning rate $\\eta=0.0001$ is so small that the algorithm would require a very large number of epochs\n",
        "to converge to the global cost minimum."
      ]
    },
    {
      "cell_type": "markdown",
      "metadata": {
        "id": "XbcsUcALxVlW"
      },
      "source": [
        "#Improving gradient descent through feature scaling\n",
        "\n",
        "Many machine learning algorithms require feature scaling for optimal performance. Gradient descent is one of the many algorithms that benefit from feature scaling. One of the reasons why standardization helps with gradient descent learning is that the optimizer has to go through fewer steps to find a good or optimal solution.\n",
        "\n",
        "Standardization can easily be achieved using the built-in NumPy methods `mean` and `std`.\n",
        "\n",
        "\n",
        "\n"
      ]
    },
    {
      "cell_type": "code",
      "metadata": {
        "id": "LmyWXWIpZIKf"
      },
      "source": [
        "X_std = np.copy(X)\n",
        "X_std[:, 0] = (X[:, 0] - X[:, 0].mean()) / X[:, 0].std()\n",
        "X_std[:, 1] = (X[:, 1] - X[:, 1].mean()) / X[:, 1].std()"
      ],
      "execution_count": null,
      "outputs": []
    },
    {
      "cell_type": "markdown",
      "metadata": {
        "id": "6-RYyJDxyoWx"
      },
      "source": [
        "Let's use the same `plot_decision_regions` function as in the Perceptron example. "
      ]
    },
    {
      "cell_type": "code",
      "metadata": {
        "id": "Y_4HduVuaESH"
      },
      "source": [
        "from matplotlib.colors import ListedColormap\n",
        "def plot_decision_regions(X, y, classifier, resolution=0.01):\n",
        "    markers = ('s', 'x', 'o', '^', 'v')\n",
        "    colors = ('red', 'blue', 'lightgreen', 'gray', 'cyan')\n",
        "    cmap = ListedColormap(colors[:len(np.unique(y))])\n",
        "    x1_min, x1_max = X[:, 0].min() - 1, X[:, 0].max() + 1\n",
        "    x2_min, x2_max = X[:, 1].min() - 1, X[:, 1].max() + 1\n",
        "    xx1, xx2 = np.meshgrid(np.arange(x1_min, x1_max, resolution),\n",
        "                           np.arange(x2_min, x2_max, resolution))\n",
        "    Z = classifier.predict(np.array([xx1.ravel(), xx2.ravel()]).T)\n",
        "    Z = Z.reshape(xx1.shape)\n",
        "    plt.contourf(xx1, xx2, Z, alpha=0.3, cmap=cmap)\n",
        "    plt.xlim(xx1.min(), xx1.max())\n",
        "    plt.ylim(xx2.min(), xx2.max())\n",
        "    for idx, cl in enumerate(np.unique(y)):\n",
        "        plt.scatter(x=X[y == cl, 0], \n",
        "                    y=X[y == cl, 1],\n",
        "                    alpha=0.8, \n",
        "                    c=colors[idx],\n",
        "                    marker=markers[idx], \n",
        "                    label=cl, \n",
        "                    edgecolor='black')"
      ],
      "execution_count": null,
      "outputs": []
    },
    {
      "cell_type": "markdown",
      "metadata": {
        "id": "PKF--4rjyeaZ"
      },
      "source": [
        "After standardization, we will train Adaline again and see that it now converges after a small number of epochs using a learning rate $\\eta=0.01$."
      ]
    },
    {
      "cell_type": "code",
      "metadata": {
        "id": "X1ty0_1pZIKh",
        "colab": {
          "base_uri": "https://localhost:8080/",
          "height": 841
        },
        "outputId": "39c23504-257d-45ce-db7d-e8604465a324"
      },
      "source": [
        "ada = AdalineGD(n_iter=15, eta=0.01)\n",
        "ada.fit(X_std, y)\n",
        "plot_decision_regions(X_std, y, classifier=ada)\n",
        "plt.title('Adaline - Gradient Descent')\n",
        "plt.xlabel('sepal length [standardized]')\n",
        "plt.ylabel('petal length [standardized]')\n",
        "plt.legend(loc='upper left')\n",
        "plt.tight_layout()\n",
        "plt.show()\n",
        "plt.plot(range(1, len(ada.cost_) + 1), ada.cost_, marker='o')\n",
        "plt.xlabel('Epochs')\n",
        "plt.ylabel('Sum-squared-error')\n",
        "plt.tight_layout()\n",
        "plt.show()\n",
        "ada.cost_"
      ],
      "execution_count": null,
      "outputs": [
        {
          "output_type": "display_data",
          "data": {
            "image/png": "[encoded data removed]",
            "text/plain": [
              "<Figure size 432x288 with 1 Axes>"
            ]
          },
          "metadata": {
            "tags": [],
            "needs_background": "light"
          }
        },
        {
          "output_type": "display_data",
          "data": {
            "image/png": "[encoded data removed]",
            "text/plain": [
              "<Figure size 432x288 with 1 Axes>"
            ]
          },
          "metadata": {
            "tags": [],
            "needs_background": "light"
          }
        },
        {
          "output_type": "execute_result",
          "data": {
            "text/plain": [
              "[50.97692262073463,\n",
              " 34.462945201633055,\n",
              " 23.572819267222187,\n",
              " 16.385594939902248,\n",
              " 11.642197678719509,\n",
              " 8.511668206880145,\n",
              " 6.445593148344737,\n",
              " 5.082032707243371,\n",
              " 4.182115219320861,\n",
              " 3.5881910626368794,\n",
              " 3.196215233044877,\n",
              " 2.9375205002995766,\n",
              " 2.7667881242247057,\n",
              " 2.6541088132436417,\n",
              " 2.579743145670434]"
            ]
          },
          "metadata": {
            "tags": []
          },
          "execution_count": 20
        }
      ]
    },
    {
      "cell_type": "markdown",
      "metadata": {
        "id": "-uaizD2Ly3Xj"
      },
      "source": [
        "As we can see in the plots, Adaline has now converged after training on the standardized features using a learning rate $\\eta=0.01$. However, note that the SSE remains non-zero even though all samples were classified correctly."
      ]
    },
    {
      "cell_type": "markdown",
      "metadata": {
        "id": "c1K3k_x6z-G4"
      },
      "source": [
        "#Large-scale machine learning and stochastic gradient descent\n",
        "\n",
        "In the previous section, we learned how to minimize a cost function by taking a step in the opposite direction of a cost gradient that is calculated from the whole training set; this is why this approach is sometimes also referred to as batch gradient descent.\n",
        "Now imagine we have a very large dataset with millions of data points, which is not uncommon in many machine learning applications. Running batch gradient descent can be computationally quite costly in such scenarios since we need to reevaluate the\n",
        "whole training dataset each time we take one step towards the global minimum.\n",
        "\n",
        "A popular alternative to the batch gradient descent algorithm is stochastic gradient descent, sometimes also called iterative or online gradient descent. Instead of updating the weights based on the sum of the accumulated errors over all samples we update the weights incrementally for each training sample.\n",
        "\n",
        "Although stochastic gradient descent can be considered as an approximation of gradient descent, it typically reaches convergence much faster because of the more frequent weight updates. Since each gradient is calculated based on a single training\n",
        "example, the error surface is noisier than in gradient descent, which can also have the advantage that stochastic gradient descent can escape shallow local minima more readily if we are working with nonlinear cost functions.\n",
        "\n",
        "Another advantage of stochastic gradient descent is that we can use it for online learning. In online learning, our model is trained on the fly as new training data arrives. This is especially useful if we are accumulating large amounts of data, for\n",
        "example, customer data in web applications. Using online learning, the system can immediately adapt to changes and the training data can be discarded after updating the model if storage space is an issue.\n",
        "\n",
        "A compromise between batch gradient descent and stochastic gradient descent is so-called mini-batch learning. Mini-batch learning can be understood as applying batch gradient descent to smaller subsets of the training data, for example, 32 samples at a\n",
        "time. The advantage over batch gradient descent is that convergence is reached faster via mini-batches because of the more frequent weight updates. Furthermore, mini-batch learning allows us to\n",
        "replace the for loop over the training samples in stochastic gradient descent with vectorized operations, which can further improve the computational efficiency of our learning algorithm.\n",
        "\n",
        "Since we already implemented the Adaline learning rule using gradient descent, we only need to make a few adjustments to modify the learning algorithm to update the weights via stochastic gradient descent. Inside the `fit` method, we will now update the weights after each training sample. Furthermore, we will implement an additional `partial_fit` method, which does not reinitialize the weights, for\n",
        "online learning. In order to check whether our algorithm converged after training, we will calculate the cost as the average cost of the training samples in each epoch. Furthermore, we will add an option to shuffle the training data before each epoch to avoid repetitive cycles when we are optimizing the cost function; via the `random_state` parameter, we allow the specification of a random seed for reproducibility."
      ]
    },
    {
      "cell_type": "code",
      "metadata": {
        "id": "h6tjUyPUZIKi"
      },
      "source": [
        "class AdalineSGD(object):\n",
        "    def __init__(self, eta=0.01, n_iter=10, shuffle=True, random_state=None):\n",
        "        self.eta = eta\n",
        "        self.n_iter = n_iter\n",
        "        self.w_initialized = False\n",
        "        self.shuffle = shuffle\n",
        "        self.random_state = random_state\n",
        "    def fit(self, X, y):\n",
        "        self._initialize_weights(X.shape[1])\n",
        "        self.cost_ = []\n",
        "        for i in range(self.n_iter):\n",
        "            if self.shuffle:\n",
        "                X, y = self._shuffle(X, y)\n",
        "            cost = []\n",
        "            for xi, target in zip(X, y):\n",
        "                cost.append(self._update_weights(xi, target))\n",
        "            avg_cost = sum(cost) / len(y)\n",
        "            self.cost_.append(avg_cost)\n",
        "        return self\n",
        "    def partial_fit(self, X, y):\n",
        "        if not self.w_initialized:\n",
        "            self._initialize_weights(X.shape[1])\n",
        "        if y.ravel().shape[0] > 1:\n",
        "            for xi, target in zip(X, y):\n",
        "                self._update_weights(xi, target)\n",
        "        else:\n",
        "            self._update_weights(X, y)\n",
        "        return self\n",
        "    def _shuffle(self, X, y):\n",
        "        r = self.rgen.permutation(len(y))\n",
        "        return X[r], y[r]\n",
        "    def _initialize_weights(self, m):\n",
        "        self.rgen = np.random.RandomState(self.random_state)\n",
        "        self.w_ = self.rgen.normal(loc=0.0, scale=0.01, size=1 + m)\n",
        "        self.w_initialized = True\n",
        "    def _update_weights(self, xi, target):\n",
        "        output = self.activation(self.net_input(xi))\n",
        "        error = (target - output)\n",
        "        self.w_[1:] += self.eta * xi.dot(error)\n",
        "        self.w_[0] += self.eta * error\n",
        "        cost = 0.5 * error**2\n",
        "        return cost\n",
        "    def net_input(self, X):\n",
        "        return np.dot(X, self.w_[1:]) + self.w_[0]\n",
        "    def activation(self, X):\n",
        "        return X\n",
        "    def predict(self, X):\n",
        "        return np.where(self.activation(self.net_input(X)) >= 0.0, 1, -1)"
      ],
      "execution_count": null,
      "outputs": []
    },
    {
      "cell_type": "markdown",
      "metadata": {
        "id": "WiLRxMl31CNM"
      },
      "source": [
        "The `_shuffle` method that we are now using in the `AdalineSGD` classifier works as follows: via the permutation function in `np.random`, we generate a random sequence of unique numbers in the range 0 to 100. Those numbers can then be used as indices to shuffle our feature matrix and class label vector.\n",
        "We can then use the fit method to train the `AdalineSGD` classifier and use our\n",
        "`plot_decision_regions` to plot our training results."
      ]
    },
    {
      "cell_type": "code",
      "metadata": {
        "id": "ncZTlyUvZIKj"
      },
      "source": [
        "ada = AdalineSGD(n_iter=15, eta=0.01, random_state=1)\n",
        "ada.fit(X_std, y)\n",
        "plot_decision_regions(X_std, y, classifier=ada)\n",
        "plt.title('Adaline - Stochastic Gradient Descent')\n",
        "plt.xlabel('sepal length [standardized]')\n",
        "plt.ylabel('petal length [standardized]')\n",
        "plt.legend(loc='upper left')\n",
        "plt.tight_layout()\n",
        "plt.show()\n",
        "plt.plot(range(1, len(ada.cost_) + 1), ada.cost_, marker='o')\n",
        "plt.xlabel('Epochs')\n",
        "plt.ylabel('Average Cost')\n",
        "plt.tight_layout()\n",
        "plt.show()"
      ],
      "execution_count": null,
      "outputs": []
    },
    {
      "cell_type": "markdown",
      "metadata": {
        "id": "WQNc75Tg1IB5"
      },
      "source": [
        "As we can see, the average cost goes down pretty quickly, and the final decision\n",
        "boundary after 15 epochs looks similar to the batch gradient descent Adaline. If\n",
        "we want to update our model, for example, in an online learning scenario with\n",
        "streaming data, we could simply call the `partial_fit` method on individual samples—for instance `ada.partial_fit(X_std[0, :], y[0])` "
      ]
    },
    {
      "cell_type": "markdown",
      "metadata": {
        "id": "DzX9AezZg2I2"
      },
      "source": [
        "#Reference\n",
        "Materials in this notebook are based on [Python Machine Learning](https://www.packtpub.com/data/python-machine-learning-third-edition)."
      ]
    }
  ]
}